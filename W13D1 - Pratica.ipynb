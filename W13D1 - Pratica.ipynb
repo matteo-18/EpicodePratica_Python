{
 "cells": [
  {
   "cell_type": "code",
   "execution_count": 1,
   "id": "9b64c71e-493b-4a0f-8739-3efccfba2d6b",
   "metadata": {},
   "outputs": [],
   "source": [
    "N_studenti = 25"
   ]
  },
  {
   "cell_type": "code",
   "execution_count": 3,
   "id": "cad69639-02bb-41dd-a948-13d20fc60544",
   "metadata": {},
   "outputs": [
    {
     "name": "stdout",
     "output_type": "stream",
     "text": [
      "25\n"
     ]
    }
   ],
   "source": [
    "print(N_studenti)"
   ]
  },
  {
   "cell_type": "code",
   "execution_count": 5,
   "id": "bc5b22ca-371e-410d-b936-3692510db2e9",
   "metadata": {},
   "outputs": [],
   "source": [
    "N_NuoviStudenti = 3"
   ]
  },
  {
   "cell_type": "code",
   "execution_count": 7,
   "id": "afb1f6c4-2b0d-4618-88b0-40a48dcb645b",
   "metadata": {},
   "outputs": [],
   "source": [
    "SommaStudenti = N_studenti + N_NuoviStudenti"
   ]
  },
  {
   "cell_type": "code",
   "execution_count": 9,
   "id": "6f6b5638-72c9-4284-ae44-b1ded9aab7c8",
   "metadata": {},
   "outputs": [
    {
     "data": {
      "text/plain": [
       "28"
      ]
     },
     "execution_count": 9,
     "metadata": {},
     "output_type": "execute_result"
    }
   ],
   "source": [
    "SommaStudenti"
   ]
  },
  {
   "cell_type": "code",
   "execution_count": 11,
   "id": "30d70b3c-d4ca-4f12-8aff-3099f9af0baa",
   "metadata": {},
   "outputs": [],
   "source": [
    "stringa = \"Epicode\""
   ]
  },
  {
   "cell_type": "code",
   "execution_count": 13,
   "id": "72f1a90c-e9c2-4205-b22e-c815637ac2b5",
   "metadata": {},
   "outputs": [
    {
     "data": {
      "text/plain": [
       "'Epicode'"
      ]
     },
     "execution_count": 13,
     "metadata": {},
     "output_type": "execute_result"
    }
   ],
   "source": [
    "stringa"
   ]
  },
  {
   "cell_type": "code",
   "execution_count": 15,
   "id": "0fe7d09d-7112-463a-ad99-715a5da2d9b7",
   "metadata": {},
   "outputs": [
    {
     "name": "stdout",
     "output_type": "stream",
     "text": [
      "Epicode\n"
     ]
    }
   ],
   "source": [
    "print(stringa)"
   ]
  },
  {
   "cell_type": "code",
   "execution_count": 17,
   "id": "5e3d0419-2327-4d88-87e4-f7e685c1fd33",
   "metadata": {},
   "outputs": [],
   "source": [
    "x = 10"
   ]
  },
  {
   "cell_type": "code",
   "execution_count": 20,
   "id": "c4239d95-0dec-4718-a0f1-e2577292bfeb",
   "metadata": {},
   "outputs": [
    {
     "data": {
      "text/plain": [
       "12"
      ]
     },
     "execution_count": 20,
     "metadata": {},
     "output_type": "execute_result"
    }
   ],
   "source": [
    "x + 2"
   ]
  },
  {
   "cell_type": "code",
   "execution_count": 22,
   "id": "829a4b81-190d-46fa-b17b-57dec468d535",
   "metadata": {},
   "outputs": [
    {
     "data": {
      "text/plain": [
       "36"
      ]
     },
     "execution_count": 22,
     "metadata": {},
     "output_type": "execute_result"
    }
   ],
   "source": [
    "(x + 2) * 3"
   ]
  },
  {
   "cell_type": "code",
   "execution_count": 24,
   "id": "caa64a8c-022c-4c67-a104-1e50353dcfe0",
   "metadata": {},
   "outputs": [],
   "source": [
    "y = x + 2"
   ]
  },
  {
   "cell_type": "code",
   "execution_count": 26,
   "id": "739fe28b-0f28-4a21-af0a-f396c246db43",
   "metadata": {},
   "outputs": [
    {
     "data": {
      "text/plain": [
       "12"
      ]
     },
     "execution_count": 26,
     "metadata": {},
     "output_type": "execute_result"
    }
   ],
   "source": [
    "y"
   ]
  },
  {
   "cell_type": "code",
   "execution_count": 30,
   "id": "d9182211-2f79-45c0-9a02-50b4b28ff793",
   "metadata": {},
   "outputs": [
    {
     "data": {
      "text/plain": [
       "36"
      ]
     },
     "execution_count": 30,
     "metadata": {},
     "output_type": "execute_result"
    }
   ],
   "source": [
    "y * 3"
   ]
  },
  {
   "cell_type": "code",
   "execution_count": 34,
   "id": "39cd8933-2c2d-4fb3-9ed5-a555ef1f8b12",
   "metadata": {},
   "outputs": [],
   "source": [
    "str1 = \"Windows\" \n",
    "str2 = \"Excel\"\n",
    "str3 = \"Powerpoint\"\n",
    "str4 = \"Word\""
   ]
  },
  {
   "cell_type": "code",
   "execution_count": 61,
   "id": "3fc9b7a2-94d5-4e50-bfc0-da83d6e66da0",
   "metadata": {},
   "outputs": [
    {
     "data": {
      "text/plain": [
       "7"
      ]
     },
     "execution_count": 61,
     "metadata": {},
     "output_type": "execute_result"
    }
   ],
   "source": [
    "len(str1)"
   ]
  },
  {
   "cell_type": "code",
   "execution_count": 63,
   "id": "84aaec91-0d80-4a98-9489-39dae3bc0ecc",
   "metadata": {},
   "outputs": [
    {
     "data": {
      "text/plain": [
       "5"
      ]
     },
     "execution_count": 63,
     "metadata": {},
     "output_type": "execute_result"
    }
   ],
   "source": [
    "len(str2)"
   ]
  },
  {
   "cell_type": "code",
   "execution_count": 65,
   "id": "ae17187e-566a-49c5-acb4-a1b200ce4761",
   "metadata": {},
   "outputs": [
    {
     "data": {
      "text/plain": [
       "10"
      ]
     },
     "execution_count": 65,
     "metadata": {},
     "output_type": "execute_result"
    }
   ],
   "source": [
    "len(str3)"
   ]
  },
  {
   "cell_type": "code",
   "execution_count": 67,
   "id": "c7bab79e-6431-4484-8ae1-f036d46e1e48",
   "metadata": {},
   "outputs": [
    {
     "data": {
      "text/plain": [
       "4"
      ]
     },
     "execution_count": 67,
     "metadata": {},
     "output_type": "execute_result"
    }
   ],
   "source": [
    "len(str4)"
   ]
  },
  {
   "cell_type": "code",
   "execution_count": 93,
   "id": "8f635770-5582-4a45-886b-e1e7d2c71436",
   "metadata": {},
   "outputs": [],
   "source": [
    "SecondiPerMinuto = 60\n",
    "MinutiPerOra = 60\n",
    "OrePerGiorno = 24\n",
    "GiorniPerAnno = 365"
   ]
  },
  {
   "cell_type": "code",
   "execution_count": 99,
   "id": "d6cd130f-4ca6-4847-bbe0-28ae1a752da9",
   "metadata": {},
   "outputs": [],
   "source": [
    "SecondiPerAnno = SecondiPerMinuto * MinutiPerOra * OrePerGiorno * GiorniPerAnno"
   ]
  },
  {
   "cell_type": "code",
   "execution_count": 101,
   "id": "72895d19-b0d8-4f32-86b6-5e140df620a7",
   "metadata": {},
   "outputs": [
    {
     "data": {
      "text/plain": [
       "31536000"
      ]
     },
     "execution_count": 101,
     "metadata": {},
     "output_type": "execute_result"
    }
   ],
   "source": [
    "SecondiPerAnno"
   ]
  },
  {
   "cell_type": "code",
   "execution_count": 103,
   "id": "0a9e76f8-7264-41c2-a0f9-cbb9a2d1ac81",
   "metadata": {},
   "outputs": [],
   "source": [
    "my_string = \"I am studying Python\""
   ]
  },
  {
   "cell_type": "code",
   "execution_count": 105,
   "id": "f46cb7fb-2ced-45d6-b66d-3a4953c2cb2c",
   "metadata": {},
   "outputs": [
    {
     "data": {
      "text/plain": [
       "'I AM STUDYING PYTHON'"
      ]
     },
     "execution_count": 105,
     "metadata": {},
     "output_type": "execute_result"
    }
   ],
   "source": [
    "my_string.upper()"
   ]
  },
  {
   "cell_type": "code",
   "execution_count": 107,
   "id": "b7fcd1bf-e1a9-46d3-b450-89a7fd28945f",
   "metadata": {},
   "outputs": [
    {
     "name": "stdout",
     "output_type": "stream",
     "text": [
      "I AM STUDYING PYTHON\n"
     ]
    }
   ],
   "source": [
    "print(my_string.upper())"
   ]
  },
  {
   "cell_type": "code",
   "execution_count": 109,
   "id": "6d767064-8288-493f-b674-23393c0ce607",
   "metadata": {},
   "outputs": [
    {
     "name": "stdout",
     "output_type": "stream",
     "text": [
      "i am studying python\n"
     ]
    }
   ],
   "source": [
    "print(my_string.lower())"
   ]
  },
  {
   "cell_type": "code",
   "execution_count": 165,
   "id": "c74fa243-c6a7-428f-a379-9fca31a0100e",
   "metadata": {},
   "outputs": [
    {
     "data": {
      "text/plain": [
       "'I am studying Python'"
      ]
     },
     "execution_count": 165,
     "metadata": {},
     "output_type": "execute_result"
    }
   ],
   "source": [
    "my_string"
   ]
  },
  {
   "cell_type": "code",
   "execution_count": 167,
   "id": "9a646cac-b56f-4ae5-b5eb-bfbc548960be",
   "metadata": {},
   "outputs": [
    {
     "name": "stdout",
     "output_type": "stream",
     "text": [
      "I am studying a lot\n"
     ]
    }
   ],
   "source": [
    "print(my_string.replace(\"Python\", \"a lot\"))"
   ]
  },
  {
   "cell_type": "code",
   "execution_count": null,
   "id": "34242d23-4ecc-4268-b864-bf383b468c0c",
   "metadata": {},
   "outputs": [],
   "source": []
  }
 ],
 "metadata": {
  "kernelspec": {
   "display_name": "Python [conda env:base] *",
   "language": "python",
   "name": "conda-base-py"
  },
  "language_info": {
   "codemirror_mode": {
    "name": "ipython",
    "version": 3
   },
   "file_extension": ".py",
   "mimetype": "text/x-python",
   "name": "python",
   "nbconvert_exporter": "python",
   "pygments_lexer": "ipython3",
   "version": "3.12.7"
  }
 },
 "nbformat": 4,
 "nbformat_minor": 5
}
