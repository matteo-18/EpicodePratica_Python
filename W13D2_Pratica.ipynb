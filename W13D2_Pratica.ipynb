{
  "nbformat": 4,
  "nbformat_minor": 0,
  "metadata": {
    "colab": {
      "provenance": [],
      "authorship_tag": "ABX9TyNOfrgGQq6H0wJgafnXleIH"
    },
    "kernelspec": {
      "name": "python3",
      "display_name": "Python 3"
    },
    "language_info": {
      "name": "python"
    }
  },
  "cells": [
    {
      "cell_type": "markdown",
      "source": [
        "1.\n",
        "Abbiamo la stringa: nome_scuola = \"Epicode\".\n",
        "\n",
        "Stampare ogni carattere della stringa, uno su ogni riga, utilizzando un costrutto while."
      ],
      "metadata": {
        "id": "5_Th5UzdIYMT"
      }
    },
    {
      "cell_type": "code",
      "execution_count": null,
      "metadata": {
        "colab": {
          "base_uri": "https://localhost:8080/"
        },
        "id": "UEvFlaASUSi5",
        "outputId": "88f0cae5-769f-43eb-b8d0-3f02a23af014"
      },
      "outputs": [
        {
          "output_type": "stream",
          "name": "stdout",
          "text": [
            "E\n",
            "p\n",
            "i\n",
            "c\n",
            "o\n",
            "d\n",
            "e\n"
          ]
        }
      ],
      "source": [
        "nome_scuola = \"Epicode\"\n",
        "index = 0 #init\n",
        "while index < len(nome_scuola):\n",
        "  print(nome_scuola[index])\n",
        "  index += 1"
      ]
    },
    {
      "cell_type": "markdown",
      "source": [
        "2.\n",
        "Stampare a video tutti i numeri da 0 a 20 utilizzando il costrutto while."
      ],
      "metadata": {
        "id": "NtJUgiAOJcfL"
      }
    },
    {
      "cell_type": "code",
      "source": [
        "numero = 0 #init\n",
        "while numero <=20:\n",
        "  print(numero)\n",
        "  numero += 1"
      ],
      "metadata": {
        "colab": {
          "base_uri": "https://localhost:8080/"
        },
        "id": "6UJtUrDi22K_",
        "outputId": "f1049ac7-d285-4ed8-fa4e-6259deacc587"
      },
      "execution_count": null,
      "outputs": [
        {
          "output_type": "stream",
          "name": "stdout",
          "text": [
            "0\n",
            "1\n",
            "2\n",
            "3\n",
            "4\n",
            "5\n",
            "6\n",
            "7\n",
            "8\n",
            "9\n",
            "10\n",
            "11\n",
            "12\n",
            "13\n",
            "14\n",
            "15\n",
            "16\n",
            "17\n",
            "18\n",
            "19\n",
            "20\n"
          ]
        }
      ]
    },
    {
      "cell_type": "markdown",
      "source": [
        "3.\n",
        "Calcolare e stampare tutte le prime 10 potenze di 2 (e.g., 2⁰, 2¹, 2², …) utilizzando un ciclo while."
      ],
      "metadata": {
        "id": "-y_Wi1FiJ5bu"
      }
    },
    {
      "cell_type": "code",
      "source": [
        "base = 2 #init\n",
        "exp = 0 #init\n",
        "\n",
        "while exp < 10:\n",
        "  print(\"2 elevato alla\", exp, \"è uguale a\", base**exp)\n",
        "  exp += 1"
      ],
      "metadata": {
        "colab": {
          "base_uri": "https://localhost:8080/"
        },
        "id": "-9SodVgg4JOA",
        "outputId": "7bb984e1-8cd4-4d28-fbfb-3b4bfeaf94c1"
      },
      "execution_count": null,
      "outputs": [
        {
          "output_type": "stream",
          "name": "stdout",
          "text": [
            "2 elevato alla 0 è uguale a 1\n",
            "2 elevato alla 1 è uguale a 2\n",
            "2 elevato alla 2 è uguale a 4\n",
            "2 elevato alla 3 è uguale a 8\n",
            "2 elevato alla 4 è uguale a 16\n",
            "2 elevato alla 5 è uguale a 32\n",
            "2 elevato alla 6 è uguale a 64\n",
            "2 elevato alla 7 è uguale a 128\n",
            "2 elevato alla 8 è uguale a 256\n",
            "2 elevato alla 9 è uguale a 512\n"
          ]
        }
      ]
    },
    {
      "cell_type": "markdown",
      "source": [
        "4.\n",
        "Calcolare e stampare tutte le prime N potenze di 2 utilizzando un ciclo while, domandando all'utente di inserire N."
      ],
      "metadata": {
        "id": "xJMRHeMSKI1t"
      }
    },
    {
      "cell_type": "code",
      "source": [
        "base = 2 #init\n",
        "exp = 0 #init\n",
        "#inserire valore limite di n-esima potenza\n",
        "limite = int(input(\"Inserire numero di potenze: \"))\n",
        "\n",
        "\n",
        "while exp < limite:\n",
        "  print(\"2 elevato alla\", exp, \"è uguale a\", base**exp)\n",
        "  exp += 1"
      ],
      "metadata": {
        "colab": {
          "base_uri": "https://localhost:8080/"
        },
        "outputId": "72e14e90-136f-42b2-886b-8399db2491ca",
        "id": "Zq5wGiR7P21o"
      },
      "execution_count": null,
      "outputs": [
        {
          "output_type": "stream",
          "name": "stdout",
          "text": [
            "Inserire numero di potenze: 15\n",
            "2 elevato alla 0 è uguale a 1\n",
            "2 elevato alla 1 è uguale a 2\n",
            "2 elevato alla 2 è uguale a 4\n",
            "2 elevato alla 3 è uguale a 8\n",
            "2 elevato alla 4 è uguale a 16\n",
            "2 elevato alla 5 è uguale a 32\n",
            "2 elevato alla 6 è uguale a 64\n",
            "2 elevato alla 7 è uguale a 128\n",
            "2 elevato alla 8 è uguale a 256\n",
            "2 elevato alla 9 è uguale a 512\n",
            "2 elevato alla 10 è uguale a 1024\n",
            "2 elevato alla 11 è uguale a 2048\n",
            "2 elevato alla 12 è uguale a 4096\n",
            "2 elevato alla 13 è uguale a 8192\n",
            "2 elevato alla 14 è uguale a 16384\n"
          ]
        }
      ]
    },
    {
      "cell_type": "markdown",
      "source": [
        "5.\n",
        "Calcolare e stampare tutte le potenze di 2 minori di 25000."
      ],
      "metadata": {
        "id": "fBopEY3tL6nC"
      }
    },
    {
      "cell_type": "code",
      "source": [
        "base = 2 #init\n",
        "exp = 0 #init\n",
        "\n",
        "while base**exp < 25000:\n",
        "  print(\"2 elevato alla\", exp, \"è uguale a\", base**exp)\n",
        "  exp += 1"
      ],
      "metadata": {
        "colab": {
          "base_uri": "https://localhost:8080/"
        },
        "id": "PXTF_fSiRlMG",
        "outputId": "675f6bc7-1b58-480f-ee6b-b530beb121e2"
      },
      "execution_count": null,
      "outputs": [
        {
          "output_type": "stream",
          "name": "stdout",
          "text": [
            "2 elevato alla 0 è uguale a 1\n",
            "2 elevato alla 1 è uguale a 2\n",
            "2 elevato alla 2 è uguale a 4\n",
            "2 elevato alla 3 è uguale a 8\n",
            "2 elevato alla 4 è uguale a 16\n",
            "2 elevato alla 5 è uguale a 32\n",
            "2 elevato alla 6 è uguale a 64\n",
            "2 elevato alla 7 è uguale a 128\n",
            "2 elevato alla 8 è uguale a 256\n",
            "2 elevato alla 9 è uguale a 512\n",
            "2 elevato alla 10 è uguale a 1024\n",
            "2 elevato alla 11 è uguale a 2048\n",
            "2 elevato alla 12 è uguale a 4096\n",
            "2 elevato alla 13 è uguale a 8192\n",
            "2 elevato alla 14 è uguale a 16384\n"
          ]
        }
      ]
    },
    {
      "cell_type": "markdown",
      "source": [
        "6.\n",
        "Abbiamo due liste, una di studenti e una di corsi:\n",
        "\n",
        "studenti = [\"Alex\", \"Bob\", \"Cindy\", \"Dan\", \"Emma\", \"Faith\", \"Grace\", \"Henry\"]\n",
        "\n",
        "corsi = [\"Cybersecurity\", \"Data Analyst\", \"Backend\", \"Frontend\", \"Data Analyst\", \"Backend\"].\n",
        "\n",
        "Aggiungere i dati mancanti alla lista corsi, sapendo che:\n",
        "\n",
        "* Emma segue Data Analyst\n",
        "* Faith segue Backend\n",
        "* Grace segue Frontend\n",
        "* Henry segue Cybersecurity\n",
        "\n",
        "Aggiungeremo i dati mancanti uno alla volta con il metodo per appendere in coda alle liste, poi verificheremo che sono della stessa lunghezza e se lo sono stamperemo la lista corsi. Se alcuni dati sono già presenti non vanno aggiunti di nuovo."
      ],
      "metadata": {
        "id": "-a5I79lsML8W"
      }
    },
    {
      "cell_type": "code",
      "source": [
        "studenti = [\"Alex\", \"Bob\", \"Cindy\", \"Dan\", \"Emma\", \"Faith\", \"Grace\", \"Henry\"]\n",
        "corsi = [\"Cybersecurity\", \"Data Analyst\", \"Backend\", \"Frontend\", \"Data Analyst\", \"Backend\"]\n",
        "\n",
        "corsi.append(\"Data Analyst\")\n",
        "corsi.append(\"Cybersecurity\")\n",
        "\n",
        "if len(studenti) == len(corsi):\n",
        "  print(corsi)"
      ],
      "metadata": {
        "colab": {
          "base_uri": "https://localhost:8080/"
        },
        "id": "y3lqaM_0Sidx",
        "outputId": "a7fc9ce7-8874-47cf-da76-763b32d42cff"
      },
      "execution_count": null,
      "outputs": [
        {
          "output_type": "stream",
          "name": "stdout",
          "text": [
            "['Cybersecurity', 'Data Analyst', 'Backend', 'Frontend', 'Data Analyst', 'Backend', 'Data Analyst', 'Cybersecurity']\n"
          ]
        }
      ]
    },
    {
      "cell_type": "markdown",
      "source": [
        "7.\n",
        "Scriviamo un programma che chiede in input all'utente una stringa e visualizza i primi 3 caratteri, seguiti da 3 punti di sospensione e quindi gli ultimi 3 caratteri, similmente all'esercizio della lezione scorsa.\n",
        "\n",
        "Stavolta facciamo attenzione a tutti i casi particolari, ovvero implementare soluzioni ad hoc per stringhe di lunghezza inferiore a 6 caratteri."
      ],
      "metadata": {
        "id": "tkmRRtkJNc_s"
      }
    },
    {
      "cell_type": "code",
      "source": [
        "#inserire valore stringa\n",
        "stringa = input(\"Inserisci una parola: \")\n",
        "\n",
        "if len(stringa) >= 6:\n",
        "  print(stringa[0:3],\"...\",stringa[-3:], sep='')\n",
        "elif len(stringa) >= 4:\n",
        "   print(stringa[0:2],\"...\",stringa[-2:], sep='')\n",
        "else:\n",
        "   print(stringa[0],\"...\",stringa[-1], sep='')"
      ],
      "metadata": {
        "colab": {
          "base_uri": "https://localhost:8080/"
        },
        "id": "zLTcFcN3TzjD",
        "outputId": "eecafcd5-8653-4852-f4d5-a385a1d3fde6"
      },
      "execution_count": null,
      "outputs": [
        {
          "output_type": "stream",
          "name": "stdout",
          "text": [
            "Inserisci una parola: Pappagallo\n",
            "Pap...llo\n"
          ]
        }
      ]
    },
    {
      "cell_type": "markdown",
      "source": [
        "8.\n",
        "Memorizza e stampa tutti i fattori di un numero dato in input."
      ],
      "metadata": {
        "id": "s1XJyqocN0II"
      }
    },
    {
      "cell_type": "code",
      "source": [
        "numero = int(input(\"Inserire un numero: \"))\n",
        "copia_numero = numero #per tenere in memoria il numero inserito\n",
        "fattore = 2 #init\n",
        "fattori =[] #init\n",
        "\n",
        "while numero != 1:\n",
        "  if numero / fattore == int(numero / fattore):\n",
        "    fattori.append(fattore)\n",
        "    numero = numero / fattore\n",
        "  else:\n",
        "    fattore += 1\n",
        "\n",
        "print(\"Il numero inserito è\", copia_numero)\n",
        "print(\"I suoi fattori sono\", fattori)"
      ],
      "metadata": {
        "id": "r4rewp0LhudC",
        "colab": {
          "base_uri": "https://localhost:8080/"
        },
        "outputId": "c04186e0-ffd8-48bb-9dbf-992c77a88f50"
      },
      "execution_count": null,
      "outputs": [
        {
          "output_type": "stream",
          "name": "stdout",
          "text": [
            "Inserire un numero: 32456475\n",
            "Il numero inserito è 32456475\n",
            "I suoi fattori sono [3, 3, 5, 5, 67, 2153]\n"
          ]
        }
      ]
    },
    {
      "cell_type": "markdown",
      "source": [
        "9.\n",
        "Abbiamo la stringa: nome_scuola = \"Epicode\".\n",
        "\n",
        "Stampare ogni carattere della stringa, uno su ogni riga, utilizzando un costrutto for."
      ],
      "metadata": {
        "id": "1W00rPZpO1lI"
      }
    },
    {
      "cell_type": "code",
      "source": [
        "nome_scuola = \"Epicode\"\n",
        "\n",
        "for lettera in nome_scuola:\n",
        "  print(lettera)"
      ],
      "metadata": {
        "colab": {
          "base_uri": "https://localhost:8080/"
        },
        "id": "R2KA8Q7d9nZ0",
        "outputId": "162f0758-3942-41fb-b18a-e6e2dd2b8c5e"
      },
      "execution_count": null,
      "outputs": [
        {
          "output_type": "stream",
          "name": "stdout",
          "text": [
            "E\n",
            "p\n",
            "i\n",
            "c\n",
            "o\n",
            "d\n",
            "e\n"
          ]
        }
      ]
    },
    {
      "cell_type": "markdown",
      "source": [
        "10.\n",
        "Calcolare e stampare tutte le prime 10 potenze di 2 utilizzando un ciclo."
      ],
      "metadata": {
        "id": "FvpSWy8kPJJL"
      }
    },
    {
      "cell_type": "code",
      "source": [
        "range_numerico = list()  # init\n",
        "num = 0  # init\n",
        "while num < 10:\n",
        "  range_numerico.append(2 ** num)\n",
        "  num += 1\n",
        "\n",
        "print(range_numerico)"
      ],
      "metadata": {
        "id": "5ly2QvCi-VUJ",
        "colab": {
          "base_uri": "https://localhost:8080/"
        },
        "outputId": "84228551-f3bd-48e7-f49f-25fefb9dec55"
      },
      "execution_count": null,
      "outputs": [
        {
          "output_type": "stream",
          "name": "stdout",
          "text": [
            "[1, 2, 4, 8, 16, 32, 64, 128, 256, 512]\n"
          ]
        }
      ]
    },
    {
      "cell_type": "markdown",
      "source": [
        "11.\n",
        "Calcolare (ma non stampare) le prime N potenze di K; ognuna di esse andrà memorizzata in coda a una lista. Alla fine, stampare la lista risultante.\n",
        "\n",
        "Proviamo con diversi valori di K, oppure facciamola inserire all'utente.\n",
        "\n",
        "Realizzare due versioni:\n",
        "* con un ciclo while\n",
        "* con un ciclo for."
      ],
      "metadata": {
        "id": "TD2I4cwgPX6T"
      }
    },
    {
      "cell_type": "code",
      "source": [
        "#con ciclo for\n",
        "\n",
        "K = int(input(\"Inserire la base: \"))\n",
        "N = int(input(\"Inserire il numero di potenze: \"))\n",
        "lista_potenze = [] #init\n",
        "\n",
        "for exp in range(N):\n",
        "  lista_potenze.append(K**exp)\n",
        "\n",
        "print(\"Le prime\", N, \"potenze di\", K, \"sono\", lista_potenze)"
      ],
      "metadata": {
        "colab": {
          "base_uri": "https://localhost:8080/"
        },
        "id": "uivmfrPgbRDT",
        "outputId": "3f51e784-bb27-48ba-d57a-22f0c794d69a"
      },
      "execution_count": null,
      "outputs": [
        {
          "output_type": "stream",
          "name": "stdout",
          "text": [
            "Inserire la base: 4\n",
            "Inserire il numero di potenze: 16\n",
            "Le prime 16 potenze di 4 sono [1, 4, 16, 64, 256, 1024, 4096, 16384, 65536, 262144, 1048576, 4194304, 16777216, 67108864, 268435456, 1073741824]\n"
          ]
        }
      ]
    },
    {
      "cell_type": "code",
      "source": [
        "#con ciclo while\n",
        "\n",
        "K = int(input(\"Inserire la base: \"))\n",
        "N = int(input(\"Inserire il numero di potenze: \"))\n",
        "lista_potenze = [] #init\n",
        "\n",
        "while len(lista_potenze) < N:\n",
        "  lista_potenze.append(K**len(lista_potenze))\n",
        "\n",
        "print(\"Le prime\", N, \"potenze di\", K, \"sono\", lista_potenze)"
      ],
      "metadata": {
        "id": "jx6FFPqJcMtF",
        "colab": {
          "base_uri": "https://localhost:8080/"
        },
        "outputId": "3cc3d401-0435-4b4f-8754-d7653da8b9cc"
      },
      "execution_count": null,
      "outputs": [
        {
          "output_type": "stream",
          "name": "stdout",
          "text": [
            "Inserire la base: 4\n",
            "Inserire il numero di potenze: 16\n",
            "Le prime 16 potenze di 4 sono [1, 4, 16, 64, 256, 1024, 4096, 16384, 65536, 262144, 1048576, 4194304, 16777216, 67108864, 268435456, 1073741824]\n"
          ]
        }
      ]
    },
    {
      "cell_type": "markdown",
      "source": [
        "12.\n",
        "Abbiamo una lista con i guadagni degli ultimi 12 mesi:\n",
        "\n",
        "guadagni = [100, 90, 70, 40, 50, 80, 90, 120, 80, 20, 50, 50]\n",
        "\n",
        "Usando un costrutto for, calcolare la media dei guadagni e stamparla a video."
      ],
      "metadata": {
        "id": "Q3MfddSzeQdt"
      }
    },
    {
      "cell_type": "code",
      "source": [
        "guadagni = [100, 90, 70, 40, 50, 80, 90, 120, 80, 20, 50, 50]\n",
        "somma = 0 #init\n",
        "\n",
        "for guadagno in guadagni:\n",
        "  somma += guadagno\n",
        "\n",
        "media = somma / len(guadagni)\n",
        "\n",
        "print(\"La media dei guadagni è\", media)"
      ],
      "metadata": {
        "colab": {
          "base_uri": "https://localhost:8080/"
        },
        "id": "R_SEFGW7eZd2",
        "outputId": "37892e56-31e3-46f9-a053-b08abbbbceeb"
      },
      "execution_count": null,
      "outputs": [
        {
          "output_type": "stream",
          "name": "stdout",
          "text": [
            "La media dei guadagni è 70.0\n"
          ]
        }
      ]
    },
    {
      "cell_type": "markdown",
      "source": [
        "13.\n",
        "Abbiamo una lista di parole:\n",
        "\n",
        "parole = [\"Albergo\", \"Sedia\", \"Borgo\", \"Petalo\", \"Eremo\", \"Belvedere\", \"Semestre\", \"Esteta\", \"Sosta\", \"Orpello\", \"Abete\", \"Orologio\", \"Cesta\", \"Ermellino\"]\n",
        "\n",
        "Stampiamo, per ogni parola, quante volte appare la lettera \"e\"; facciamo attenzione al fatto che appare sia maiuscola che minuscola."
      ],
      "metadata": {
        "id": "llnEKztoi4OC"
      }
    },
    {
      "cell_type": "code",
      "source": [
        "parole = [\"Albergo\", \"Sedia\", \"Borgo\", \"Petalo\", \"Eremo\", \"Belvedere\", \"Semestre\", \"Esteta\", \"Sosta\", \"Orpello\", \"Abete\", \"Orologio\", \"Cesta\", \"Ermellino\"]\n",
        "ricerca = input(\"Inserire una lettera da cercare nella lista: \")\n",
        "ricerca = ricerca.lower()\n",
        "\n",
        "for parola in parole:\n",
        "  conteggio = parola.lower().count(ricerca)\n",
        "  print(\"La parola\", parola, \"contiene\", conteggio, \"lettere\", ricerca)"
      ],
      "metadata": {
        "colab": {
          "base_uri": "https://localhost:8080/"
        },
        "id": "HIixn20yjC6H",
        "outputId": "523a70ee-cb39-4e96-907f-3bd5a5f693ba"
      },
      "execution_count": null,
      "outputs": [
        {
          "output_type": "stream",
          "name": "stdout",
          "text": [
            "Inserire una lettera da cercare nella lista: E\n",
            "La parola Albergo contiene 1 lettere e\n",
            "La parola Sedia contiene 1 lettere e\n",
            "La parola Borgo contiene 0 lettere e\n",
            "La parola Petalo contiene 1 lettere e\n",
            "La parola Eremo contiene 2 lettere e\n",
            "La parola Belvedere contiene 4 lettere e\n",
            "La parola Semestre contiene 3 lettere e\n",
            "La parola Esteta contiene 2 lettere e\n",
            "La parola Sosta contiene 0 lettere e\n",
            "La parola Orpello contiene 1 lettere e\n",
            "La parola Abete contiene 2 lettere e\n",
            "La parola Orologio contiene 0 lettere e\n",
            "La parola Cesta contiene 1 lettere e\n",
            "La parola Ermellino contiene 2 lettere e\n"
          ]
        }
      ]
    },
    {
      "cell_type": "markdown",
      "source": [
        "14.\n",
        "Creiamo un dizionario che assegni ad ogni proprietario la sua auto, sapendo che:\n",
        "* Ada guida una Punto\n",
        "* Ben guida una Multipla\n",
        "* Charlie guida una Golf\n",
        "* Debbie guida una 107\n",
        "\n",
        "Stampiamo il dizionario per intero, e poi l'auto associata a Debbie."
      ],
      "metadata": {
        "id": "pNPoZoxMo6dE"
      }
    },
    {
      "cell_type": "code",
      "source": [
        "proprietari_auto = {\n",
        "    \"Ada\": \"Punto\",\n",
        "    \"Ben\": \"Multipla\",\n",
        "    \"Charlie\": \"Golf\",\n",
        "    \"Debbie\": \"107\"\n",
        "}\n",
        "\n",
        "print(proprietari_auto)\n",
        "print(proprietari_auto[\"Debbie\"])"
      ],
      "metadata": {
        "colab": {
          "base_uri": "https://localhost:8080/"
        },
        "id": "168YiOJ_pfLl",
        "outputId": "ef1c3431-9411-402a-fa0c-3f2528ecd1b5"
      },
      "execution_count": null,
      "outputs": [
        {
          "output_type": "stream",
          "name": "stdout",
          "text": [
            "{'Ada': 'Punto', 'Ben': 'Multipla', 'Charlie': 'Golf', 'Debbie': '107'}\n",
            "107\n"
          ]
        }
      ]
    },
    {
      "cell_type": "markdown",
      "source": [
        "15.\n",
        "Abbiamo un dizionario che assegna ad ogni proprietario la sua auto:\n",
        "\n",
        "dizionario_auto = {\"Ada\": \"Punto\", \"Ben\": \"Multipla\", \"Charlie\": \"Golf\", \"Debbie\": \"107\"}\n",
        "\n",
        "Con un ciclo, e usando il metodo .values(), stampiamo a video tutte le auto che non sono una Multipla."
      ],
      "metadata": {
        "id": "P1Cjc0EfqEAf"
      }
    },
    {
      "cell_type": "code",
      "source": [
        "dizionario_auto = {\"Ada\": \"Punto\", \"Ben\": \"Multipla\", \"Charlie\": \"Golf\", \"Debbie\": \"107\"}\n",
        "\n",
        "for auto in dizionario_auto.values():\n",
        "  if auto != \"Multipla\":\n",
        "    print(auto)"
      ],
      "metadata": {
        "colab": {
          "base_uri": "https://localhost:8080/"
        },
        "id": "4Aa9xQW6qONm",
        "outputId": "59fa8c2f-527c-4286-d340-82fda636d374"
      },
      "execution_count": null,
      "outputs": [
        {
          "output_type": "stream",
          "name": "stdout",
          "text": [
            "Punto\n",
            "Golf\n",
            "107\n"
          ]
        }
      ]
    },
    {
      "cell_type": "markdown",
      "source": [
        "16.\n",
        "Abbiamo due dizionari che assegnano ad ogni proprietario la propria auto:\n",
        "\n",
        "dizionario_auto = {\"Ada\": \"Punto\", \"Ben\": \"Multipla\", \"Charlie\": \"Golf\", \"Debbie\": \"107\", \"Emily\": \"A1\"}\n",
        "\n",
        "nuovi_proprietari = {\"Ben\": \"Polo\", \"Fred\": \"Octavia\", \"Grace\": \"Yaris\", \"Hugh\": \"Clio\"}\n",
        "\n",
        "Aggiornare il dizionario dizionario_auto con i dati contenuti in nuovi_proprietari e stamparlo. Cosa è successo a Ben?"
      ],
      "metadata": {
        "id": "m7nwOkb7rbv_"
      }
    },
    {
      "cell_type": "code",
      "source": [
        "dizionario_auto = {\"Ada\": \"Punto\", \"Ben\": \"Multipla\", \"Charlie\": \"Golf\", \"Debbie\": \"107\", \"Emily\": \"A1\"}\n",
        "\n",
        "nuovi_proprietari = {\"Ben\": \"Polo\", \"Fred\": \"Octavia\", \"Grace\": \"Yaris\", \"Hugh\": \"Clio\"}\n",
        "\n",
        "dizionario_auto.update(nuovi_proprietari)\n",
        "\n",
        "print(dizionario_auto)"
      ],
      "metadata": {
        "colab": {
          "base_uri": "https://localhost:8080/"
        },
        "id": "wtDU-rxHrqE-",
        "outputId": "2318afb7-4fe4-4eb3-c6b9-dd53d9e33e60"
      },
      "execution_count": null,
      "outputs": [
        {
          "output_type": "stream",
          "name": "stdout",
          "text": [
            "{'Ada': 'Punto', 'Ben': 'Polo', 'Charlie': 'Golf', 'Debbie': '107', 'Emily': 'A1', 'Fred': 'Octavia', 'Grace': 'Yaris', 'Hugh': 'Clio'}\n"
          ]
        }
      ]
    },
    {
      "cell_type": "markdown",
      "source": [
        "17.\n",
        "Scrivere un programma che, data una lista di numeri, fornisca in output il minimo e il massimo (possiamo usare o meno le funzioni built-in min() e max())."
      ],
      "metadata": {
        "id": "WiWvikgHsofP"
      }
    },
    {
      "cell_type": "code",
      "source": [
        "#senza funzioni built-in\n",
        "\n",
        "lista_numeri = [10, 5, 8, 20, 15, 3, 6, 12, 25, 18]\n",
        "\n",
        "minimo = lista_numeri[0] #init\n",
        "massimo = lista_numeri[0] #init\n",
        "\n",
        "for numero in lista_numeri:\n",
        "  if numero < minimo:\n",
        "    minimo = numero\n",
        "  elif numero > massimo:\n",
        "    massimo = numero\n",
        "\n",
        "print(\"Il valore minimo è\", minimo)\n",
        "print(\"Il valore massimo è\", massimo)"
      ],
      "metadata": {
        "colab": {
          "base_uri": "https://localhost:8080/"
        },
        "id": "YNG4-0RJuLKS",
        "outputId": "efdd61e0-3992-453b-c68a-59771cf01a90"
      },
      "execution_count": null,
      "outputs": [
        {
          "output_type": "stream",
          "name": "stdout",
          "text": [
            "Il valore minimo è 3\n",
            "Il valore massimo è 25\n"
          ]
        }
      ]
    },
    {
      "cell_type": "code",
      "source": [
        "#con funzioni built-in\n",
        "\n",
        "lista_numeri = [10, 5, 8, 20, 15, 3, 6, 12, 25, 18]\n",
        "\n",
        "print(\"Il valore minimo è\", min(lista_numeri))\n",
        "print(\"Il valore massimo è\", max(lista_numeri))"
      ],
      "metadata": {
        "colab": {
          "base_uri": "https://localhost:8080/"
        },
        "id": "XrPVLvkxwvHw",
        "outputId": "0865f222-2981-47d0-d060-89d8d9473b38"
      },
      "execution_count": null,
      "outputs": [
        {
          "output_type": "stream",
          "name": "stdout",
          "text": [
            "Il valore minimo è 3\n",
            "Il valore massimo è 25\n"
          ]
        }
      ]
    },
    {
      "cell_type": "markdown",
      "source": [
        "18.\n",
        "Scrivere un programma che, data una lista di numeri, fornisca in output i tre numeri più grandi; gestire il caso in cui la lista sia più corta di tre, e quando uno o più dei numeri selezionati sono uguali."
      ],
      "metadata": {
        "id": "THs_T808xaDV"
      }
    },
    {
      "cell_type": "code",
      "source": [
        "quantità = int(input(\"Inserire la quantità di numeri da inserire nella lista: \"))\n",
        "lista_numeri_iniz = [] #init - questa lista salverà in memoria la lista input iniziale\n",
        "lista_numeri = [] #init\n",
        "\n",
        "for numero in range(quantità):\n",
        "  numero = int(input(f\"Ancora {quantità - numero} numeri da inserire. Inserire un numero: \"))\n",
        "  lista_numeri_iniz.append(numero)\n",
        "  lista_numeri.append(numero)\n",
        "massimo = max(lista_numeri)\n",
        "\n",
        "if len(lista_numeri) > 2:\n",
        "  for numero in lista_numeri:\n",
        "    if numero == massimo:\n",
        "      lista_numeri.remove(numero)\n",
        "\n",
        "  secondo_massimo = max(lista_numeri)\n",
        "\n",
        "  for numero in lista_numeri:\n",
        "    if numero == secondo_massimo:\n",
        "      lista_numeri.remove(numero)\n",
        "\n",
        "  terzo_massimo = max(lista_numeri)\n",
        "\n",
        "  print(\"La lista fornita è:\", lista_numeri_iniz)\n",
        "  print(\"I tre numeri più grandi sono:\", massimo, secondo_massimo, terzo_massimo)\n",
        "\n",
        "else:\n",
        "  print(f\"La lista {lista_numeri_iniz} contiene meno di tre numeri\")\n",
        "  print(\"Il numero più grande è\", max(lista_numeri))\n",
        "  print(\"Il numero più piccolo è\", min(lista_numeri))"
      ],
      "metadata": {
        "colab": {
          "base_uri": "https://localhost:8080/"
        },
        "id": "R8fpUOH3xhIH",
        "outputId": "177903e5-5eb9-414f-c639-0f6e042e430b"
      },
      "execution_count": 7,
      "outputs": [
        {
          "output_type": "stream",
          "name": "stdout",
          "text": [
            "Inserire la quantità di numeri da inserire nella lista: 2\n",
            "Ancora 2 numeri da inserire. Inserire un numero: 10\n",
            "Ancora 1 numeri da inserire. Inserire un numero: 20\n",
            "La lista [10, 20] contiene meno di tre numeri\n",
            "Il numero più grande è 20\n",
            "Il numero più piccolo è 10\n"
          ]
        }
      ]
    },
    {
      "cell_type": "markdown",
      "source": [
        "19.\n",
        "Scrivere un programma che:\n",
        "* in input acquisisce una lista di numeri e un numero K\n",
        "* in output, dovrà restituire la media di tutti i numeri nella lista maggiori o uguali a K\n",
        "* se non ce ne dovesse essere nessuno, dovrà stampare a schermo un messaggio adeguato."
      ],
      "metadata": {
        "id": "CubdIMf8nNmt"
      }
    },
    {
      "cell_type": "code",
      "source": [
        "#con ciclo for e if\n",
        "\n",
        "quantità = int(input(\"Inserire la quantità di numeri da inserire nella lista: \"))\n",
        "lista_numeri = [] #init\n",
        "\n",
        "for numero in range(quantità):\n",
        "  numero = int(input(f\"Ancora {quantità - numero} numeri da inserire. Inserire un numero: \"))23\n",
        "  lista_numeri.append(numero)\n",
        "print(\"La lista fornita è:\", lista_numeri)\n",
        "\n",
        "K = int(input(\"Inserire un numero K: \"))\n",
        "somma = 0 #init\n",
        "conteggio = 0 #init\n",
        "\n",
        "for numero in lista_numeri:\n",
        "  if numero >= K:\n",
        "    somma += numero\n",
        "    conteggio += 1\n",
        "\n",
        "if conteggio > 0:\n",
        "  media = somma / conteggio\n",
        "  print(\"La media dei numeri maggiori o uguali a\", K, \"è\", media)\n",
        "else:\n",
        "  print(\"Non ci sono numeri maggiori o uguali a\", K, \"nella lista fornita\")"
      ],
      "metadata": {
        "colab": {
          "base_uri": "https://localhost:8080/"
        },
        "id": "N4rdLi_XuEcA",
        "outputId": "54c3253d-faea-40c8-d22b-4f092136b994"
      },
      "execution_count": 15,
      "outputs": [
        {
          "output_type": "stream",
          "name": "stdout",
          "text": [
            "Inserire la quantità di numeri da inserire nella lista: 4\n",
            "Ancora 4 numeri da inserire. Inserire un numero: 10\n",
            "Ancora 3 numeri da inserire. Inserire un numero: 0\n",
            "Ancora 2 numeri da inserire. Inserire un numero: 30\n",
            "Ancora 1 numeri da inserire. Inserire un numero: 40\n",
            "La lista fornita è: [10, 0, 30, 40]\n",
            "Inserire un numero K: 15\n",
            "La media dei numeri maggiori o uguali a 15 è 35.0\n"
          ]
        }
      ]
    },
    {
      "cell_type": "code",
      "source": [
        "#con libreria numpy\n",
        "\n",
        "import numpy as np\n",
        "quantità = int(input(\"Inserire la quantità di numeri da inserire nella lista: \"))\n",
        "lista_numeri_iniz = [] #init - questa lista salverà in memoria la lista input iniziale\n",
        "\n",
        "for numero in range(quantità):\n",
        "  numero = int(input(f\"Ancora {quantità - numero} numeri da inserire. Inserire un numero: \"))\n",
        "  lista_numeri_iniz.append(numero)\n",
        "print(\"La lista fornita è:\", lista_numeri_iniz)\n",
        "\n",
        "lista_numeri = np.array(lista_numeri_iniz) #casting\n",
        "\n",
        "K = int(input(\"Inserire un numero K: \"))\n",
        "\n",
        "maggiori_K = lista_numeri[lista_numeri >= K] #masking\n",
        "\n",
        "if len(maggiori_K) > 0:\n",
        "  media = np.mean(maggiori_K)\n",
        "  print(\"La media dei numeri maggiori o uguali a\", K, \"è\", media)\n",
        "else:\n",
        "  print(\"Non ci sono numeri maggiori o uguali a\", K, \"nella lista fornita\")\n"
      ],
      "metadata": {
        "colab": {
          "base_uri": "https://localhost:8080/"
        },
        "id": "j4KS-JRkzJ5Y",
        "outputId": "8ba95a7c-2802-4bdb-f2fe-f85a17078e53"
      },
      "execution_count": 13,
      "outputs": [
        {
          "output_type": "stream",
          "name": "stdout",
          "text": [
            "Inserire la quantità di numeri da inserire nella lista: 7\n",
            "Ancora 7 numeri da inserire. Inserire un numero: 18\n",
            "Ancora 6 numeri da inserire. Inserire un numero: 25\n",
            "Ancora 5 numeri da inserire. Inserire un numero: 17\n",
            "Ancora 4 numeri da inserire. Inserire un numero: 30\n",
            "Ancora 3 numeri da inserire. Inserire un numero: 16\n",
            "Ancora 2 numeri da inserire. Inserire un numero: 23\n",
            "Ancora 1 numeri da inserire. Inserire un numero: 28\n",
            "La lista fornita è: [18, 25, 17, 30, 16, 23, 28]\n",
            "Inserire un numero K: 18\n",
            "La media dei numeri maggiori o uguali a 18 è 24.8\n"
          ]
        }
      ]
    },
    {
      "cell_type": "markdown",
      "source": [
        "20.\n",
        "Scrivere un programma che, data una lista di numeri, come output stamperà lo stesso numero di asterischi su righe diverse, ottenendo una semplice visualizzazione grafica."
      ],
      "metadata": {
        "id": "3Ie_esyj5IzU"
      }
    },
    {
      "cell_type": "code",
      "source": [
        "quantità = int(input(\"Inserire la quantità di numeri da inserire nella lista: \"))\n",
        "lista_numeri = [] #init\n",
        "\n",
        "for numero in range(quantità):\n",
        "  numero = int(input(f\"Ancora {quantità - numero} numeri da inserire. Inserire un numero: \"))\n",
        "  lista_numeri.append(numero)\n",
        "print(\"La lista fornita è:\", lista_numeri)\n",
        "\n",
        "for numero in lista_numeri:\n",
        "  print(numero * \"*\", numero)"
      ],
      "metadata": {
        "colab": {
          "base_uri": "https://localhost:8080/"
        },
        "id": "EZVysvPH5UP4",
        "outputId": "526601d9-edc2-4f31-d12c-d89018ca0538"
      },
      "execution_count": 18,
      "outputs": [
        {
          "output_type": "stream",
          "name": "stdout",
          "text": [
            "Inserire la quantità di numeri da inserire nella lista: 3\n",
            "Ancora 3 numeri da inserire. Inserire un numero: 20\n",
            "Ancora 2 numeri da inserire. Inserire un numero: 24\n",
            "Ancora 1 numeri da inserire. Inserire un numero: 31\n",
            "La lista fornita è: [20, 24, 31]\n",
            "******************** 20\n",
            "************************ 24\n",
            "******************************* 31\n"
          ]
        }
      ]
    },
    {
      "cell_type": "markdown",
      "source": [
        "21.\n",
        "Abbiamo una lista di codici fiscali:\n",
        "\n",
        "lista_cf = [\"ABCDEF95G01A123B\", \"GHIJKL91M02A321C\", \"MNOPQR89S03A456D\", \"STUVWX95Z04A654E\", \"XYZABC01D05A789F\", \"DEFGHI95J06A987G\"]\n",
        "\n",
        "* trovare i codici fiscali che contengono \"95\", metterli in una lista, e alla fine stamparla\n",
        "\n",
        "* inoltre, per ognuno di essi, stampare a video i caratteri relativi al nome e quelli relativi al cognome"
      ],
      "metadata": {
        "id": "z7MzFJkq-kIf"
      }
    },
    {
      "cell_type": "code",
      "source": [
        "lista_cf = [\"ABCDEF95G01A123B\", \"GHIJKL91M02A321C\", \"MNOPQR89S03A456D\", \"STUVWX95Z04A654E\", \"XYZABC01D05A789F\", \"DEFGHI95J06A987G\"]\n",
        "lista_95 = []\n",
        "\n",
        "for cf in lista_cf:\n",
        "  if \"95\" in cf:\n",
        "    lista_95.append(cf)\n",
        "\n",
        "print(\"I codici fiscali che contengono '95' sono:\", lista_95)\n",
        "\n",
        "for cf in lista_95:\n",
        "  print(\"I caratteri relativi al nome sono\", cf[0:3], \"e i caratteri relativi al cognome sono\", cf[3:6])"
      ],
      "metadata": {
        "colab": {
          "base_uri": "https://localhost:8080/"
        },
        "id": "Kjp0OviS_SD4",
        "outputId": "e0071073-c332-497e-99a9-0adcecc1d1e0"
      },
      "execution_count": 21,
      "outputs": [
        {
          "output_type": "stream",
          "name": "stdout",
          "text": [
            "I codici fiscali che contengono '95' sono: ['ABCDEF95G01A123B', 'STUVWX95Z04A654E', 'DEFGHI95J06A987G']\n",
            "I caratteri relativi al nome sono ABC e i caratteri relativi al cognome sono DEF\n",
            "I caratteri relativi al nome sono STU e i caratteri relativi al cognome sono VWX\n",
            "I caratteri relativi al nome sono DEF e i caratteri relativi al cognome sono GHI\n"
          ]
        }
      ]
    },
    {
      "cell_type": "markdown",
      "source": [
        "22.\n",
        "Abbiamo tre liste della stessa lunghezza, dove ogni elemento nella medesima posizione si riferisce ai dati dello stesso studente:\n",
        "\n",
        "studenti = [\"Alex\", \"Bob\", \"Cindy\", \"Dan\", \"Emma\", \"Faith\", \"Grace\", \"Henry\"]\n",
        "\n",
        "corsi = [\"Cybersecurity\", \"Data Analyst\", \"Backend\", \"Frontend\", \"Data Analyst\", \"Backend\", \"Frontend\", \"Cybersecurity\"]\n",
        "\n",
        "edizioni = [1, 2, 3, 2, 2, 1, 3, 3]\n",
        "\n",
        "* Stampare a video tutti e soli gli studenti che frequentano una prima edizione; non tutti i dati potrebbero essere necessari.\n",
        "\n",
        "* Riuscite a vedere una similarità con la logica che si usa in SQL e le tabelle relazionali?"
      ],
      "metadata": {
        "id": "-5sEGUAEBZr_"
      }
    },
    {
      "cell_type": "code",
      "source": [
        "studenti = [\"Alex\", \"Bob\", \"Cindy\", \"Dan\", \"Emma\", \"Faith\", \"Grace\", \"Henry\"]\n",
        "\n",
        "corsi = [\"Cybersecurity\", \"Data Analyst\", \"Backend\", \"Frontend\", \"Data Analyst\", \"Backend\", \"Frontend\", \"Cybersecurity\"]\n",
        "\n",
        "edizioni = [1, 2, 3, 2, 2, 1, 3, 3]\n",
        "\n",
        "print(\"Gli studenti che frequentano una prima edizione e i corsi a cui sono iscritti sono:\")\n",
        "for i in range(len(studenti)):\n",
        "  if edizioni[i] == 1:\n",
        "    print(studenti[i], \"-\", corsi[i])"
      ],
      "metadata": {
        "colab": {
          "base_uri": "https://localhost:8080/"
        },
        "id": "qJgrNe9gCJWN",
        "outputId": "83987e0d-b98d-4019-80b6-d8facb0d2bde"
      },
      "execution_count": 25,
      "outputs": [
        {
          "output_type": "stream",
          "name": "stdout",
          "text": [
            "Gli studenti che frequentano una prima edizione e i corsi a cui sono iscritti sono:\n",
            "Alex - Cybersecurity\n",
            "Faith - Backend\n"
          ]
        }
      ]
    },
    {
      "cell_type": "markdown",
      "source": [
        "23.\n",
        "Abbiamo una lista di stringhe di prezzi in dollari, che erroneamente sono stati scritti con il simbolo dell'euro:\n",
        "\n",
        "prezzi = [\"100 €\", \"200 €\", \"500 €\", \"10 €\", \"50 €\", \"70 €\"]\n",
        "\n",
        "Cambiare il simbolo dell'euro (€) in quello del dollaro ($) per ogni stringa nella lista; il risultato sarà memorizzato in un'altra lista."
      ],
      "metadata": {
        "id": "1FP80R4iEPea"
      }
    },
    {
      "cell_type": "code",
      "source": [
        "prezzi = [\"100 €\", \"200 €\", \"500 €\", \"10 €\", \"50 €\", \"70 €\"]\n",
        "prezzi_dollari = [] #init\n",
        "\n",
        "for prezzo in prezzi:\n",
        "  prezzo_dollaro = prezzo.replace(\"€\", \"$\")\n",
        "  prezzi_dollari.append(prezzo_dollaro)\n",
        "\n",
        "print(\"I prezzi in dollari sono:\", prezzi_dollari)"
      ],
      "metadata": {
        "colab": {
          "base_uri": "https://localhost:8080/"
        },
        "id": "X4v5JKsUEeux",
        "outputId": "4cbfa887-a52e-4a27-80a3-60c8ec84ea26"
      },
      "execution_count": 26,
      "outputs": [
        {
          "output_type": "stream",
          "name": "stdout",
          "text": [
            "I prezzi in dollari sono: ['100 $', '200 $', '500 $', '10 $', '50 $', '70 $']\n"
          ]
        }
      ]
    },
    {
      "cell_type": "markdown",
      "source": [
        "24.\n",
        "Abbiamo una lista di studenti:\n",
        "\n",
        "studenti = [\"Alex\", \"Bob\", \"Cindy\", \"Dan\", \"Emma\", \"Faith\", \"Grace\", \"Henry\", \"Isabelle\", \"John\"]\n",
        "\n",
        "Vogliamo dividere gli studenti in due squadre per un campionato di Uno nel seguente modo:\n",
        "\n",
        "selezioneremo i nomi in posizione pari per un squadra, e i nomi in posizione dispari per l'altra. Creiamo due liste per ogni squadra, e alla fine visualizziamole."
      ],
      "metadata": {
        "id": "XJ8SmUDCF2sL"
      }
    },
    {
      "cell_type": "code",
      "source": [
        "studenti = [\"Alex\", \"Bob\", \"Cindy\", \"Dan\", \"Emma\", \"Faith\", \"Grace\", \"Henry\", \"Isabelle\", \"John\"]\n",
        "squadra1 = [] #init\n",
        "squadra2 = [] #init\n",
        "\n",
        "for i in range(len(studenti)):\n",
        "  if i % 2 == 0:\n",
        "    squadra1.append(studenti[i])\n",
        "  else:\n",
        "    squadra2.append(studenti[i])\n",
        "\n",
        "print(\"La squadra 1 è composta da:\", squadra1)\n",
        "print(\"La squadra 2 è composta da:\", squadra2)"
      ],
      "metadata": {
        "colab": {
          "base_uri": "https://localhost:8080/"
        },
        "id": "EhiB5gYyGMcQ",
        "outputId": "9beb5bfe-834f-490a-9070-730c63778355"
      },
      "execution_count": 28,
      "outputs": [
        {
          "output_type": "stream",
          "name": "stdout",
          "text": [
            "La squadra 1 è composta da: ['Alex', 'Cindy', 'Emma', 'Grace', 'Isabelle']\n",
            "La squadra 2 è composta da: ['Bob', 'Dan', 'Faith', 'Henry', 'John']\n"
          ]
        }
      ]
    },
    {
      "cell_type": "markdown",
      "source": [
        "25.\n",
        "Abbiamo una lista con i guadagni degli ultimi 12 mesi (supponiamo da Gennaio a Dicembre):\n",
        "\n",
        "guadagni = [100, 90, 70, 40, 50, 80, 90, 120, 80, 20, 50, 50]\n",
        "\n",
        "Dobbiamo confrontare, stampando tutto a video, il guadagno di ogni mese con la media dei guadagni precedenti, e specificare nell'output se il guadagno attuale è maggiore o minore della media dei precedenti."
      ],
      "metadata": {
        "id": "LcgXLDszG4Pi"
      }
    },
    {
      "cell_type": "code",
      "source": [
        "guadagni = [100, 90, 70, 40, 50, 80, 90, 120, 80, 20, 50, 50]\n",
        "\n",
        "for i in range(len(guadagni)):\n",
        "  if i == 0:\n",
        "    print(\"Il guadagno del mese\" , i+1 ,  \"è di €\", guadagni[i], \"ed è maggiore della media dei precedenti guadagni ovvero €\", i)\n",
        "  else:\n",
        "    media_precedenti = sum(guadagni[:i]) / i\n",
        "    if guadagni[i] > media_precedenti:\n",
        "      print(\"Il guadagno del mese\" , i+1 ,  \"è di €\", guadagni[i], \"ed è maggiore della media dei precedenti guadagni ovvero €\", media_precedenti)\n",
        "    elif guadagni[i] < media_precedenti:\n",
        "      print(\"Il guadagno del mese\" , i+1 ,  \"è di €\", guadagni[i], \"ed è minore della media dei precedenti guadagni ovvero €\", media_precedenti)\n",
        "    else:\n",
        "      print(\"Il guadagno del mese\" , i+1 ,  \"è di €\", guadagni[i], \"ed è uguale alla media dei precedenti guadagni ovvero €\", media_precedenti)"
      ],
      "metadata": {
        "colab": {
          "base_uri": "https://localhost:8080/"
        },
        "id": "TD6Mhlw1GnIu",
        "outputId": "af2395ed-44ab-4b9c-d4c6-ca3c3aefa7bc"
      },
      "execution_count": 40,
      "outputs": [
        {
          "output_type": "stream",
          "name": "stdout",
          "text": [
            "Il guadagno del mese 1 è di € 100 ed è maggiore della media dei precedenti guadagni ovvero € 0\n",
            "Il guadagno del mese 2 è di € 90 ed è minore della media dei precedenti guadagni ovvero € 100.0\n",
            "Il guadagno del mese 3 è di € 70 ed è minore della media dei precedenti guadagni ovvero € 95.0\n",
            "Il guadagno del mese 4 è di € 40 ed è minore della media dei precedenti guadagni ovvero € 86.66666666666667\n",
            "Il guadagno del mese 5 è di € 50 ed è minore della media dei precedenti guadagni ovvero € 75.0\n",
            "Il guadagno del mese 6 è di € 80 ed è maggiore della media dei precedenti guadagni ovvero € 70.0\n",
            "Il guadagno del mese 7 è di € 90 ed è maggiore della media dei precedenti guadagni ovvero € 71.66666666666667\n",
            "Il guadagno del mese 8 è di € 120 ed è maggiore della media dei precedenti guadagni ovvero € 74.28571428571429\n",
            "Il guadagno del mese 9 è di € 80 ed è uguale alla media dei precedenti guadagni ovvero € 80.0\n",
            "Il guadagno del mese 10 è di € 20 ed è minore della media dei precedenti guadagni ovvero € 80.0\n",
            "Il guadagno del mese 11 è di € 50 ed è minore della media dei precedenti guadagni ovvero € 74.0\n",
            "Il guadagno del mese 12 è di € 50 ed è minore della media dei precedenti guadagni ovvero € 71.81818181818181\n"
          ]
        }
      ]
    },
    {
      "cell_type": "code",
      "source": [],
      "metadata": {
        "id": "YWcl8uXAIRXF"
      },
      "execution_count": null,
      "outputs": []
    }
  ]
}