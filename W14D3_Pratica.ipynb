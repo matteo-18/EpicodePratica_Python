{
  "nbformat": 4,
  "nbformat_minor": 0,
  "metadata": {
    "colab": {
      "provenance": [],
      "authorship_tag": "ABX9TyO6DrEwyr7KFP9GnTpozRbQ"
    },
    "kernelspec": {
      "name": "python3",
      "display_name": "Python 3"
    },
    "language_info": {
      "name": "python"
    }
  },
  "cells": [
    {
      "cell_type": "markdown",
      "source": [
        "1.\n",
        "Abbiamo una lista di liste:\n",
        "\n",
        "mat = [[0, 1, 2, 3, 4], [5, 6, 7, 8, 9], [10, 11, 12, 13, 14]]\n",
        "\n",
        "Che tipo di struttura dati o matematica potrebbe rappresentare? Notare che tutte le liste \"interne\" sono della stessa dimensione.\n",
        "\n",
        "Come facciamo per accedere ad un elemento in particolare?"
      ],
      "metadata": {
        "id": "nh453F5F96cZ"
      }
    },
    {
      "cell_type": "code",
      "source": [
        "#Questa lista di liste, essendo formata da liste che hanno lo stesso numero di elementi potrebbe rappresentare una matrice o tabella.\n",
        "\n",
        "#Per accedere ad un elemento possiamo usare l'indexing. Ad esempio:\n",
        "\n",
        "mat = [[0, 1, 2, 3, 4],\n",
        "       [5, 6, 7, 8, 9],\n",
        "       [10, 11, 12, 13, 14]]\n",
        "\n",
        "print(mat[0]) #per accedere ad una lista della matrice\n",
        "\n",
        "print(mat[0][0]) #per accedere ad un elemento della lista della matrice"
      ],
      "metadata": {
        "colab": {
          "base_uri": "https://localhost:8080/"
        },
        "id": "otRhgTo5-l9V",
        "outputId": "78e1228e-cce7-471a-ffc5-38c5ae86aebd"
      },
      "execution_count": 4,
      "outputs": [
        {
          "output_type": "stream",
          "name": "stdout",
          "text": [
            "[0, 1, 2, 3, 4]\n",
            "0\n"
          ]
        }
      ]
    },
    {
      "cell_type": "markdown",
      "source": [
        "Importiamo il modulo math e proviamo a usare le funzioni\n",
        "\n",
        "* .sin()\n",
        "\n",
        "* .cos()\n",
        "\n",
        "* .factorial()\n",
        "\n",
        "e la variabile .pi la riconoscete?"
      ],
      "metadata": {
        "id": "iD2t40g3AMfo"
      }
    },
    {
      "cell_type": "code",
      "source": [
        "import math\n",
        "\n",
        "print(math.pi)\n",
        "print(math.sin(math.pi/2))\n",
        "print(math.sin(math.radians(90)))\n",
        "print(math.cos(math.pi))\n",
        "print(math.factorial(10))"
      ],
      "metadata": {
        "colab": {
          "base_uri": "https://localhost:8080/"
        },
        "id": "4yQgZAJh_shZ",
        "outputId": "68c8e7e2-7bd8-4671-e024-8b119ea8a23b"
      },
      "execution_count": 17,
      "outputs": [
        {
          "output_type": "stream",
          "name": "stdout",
          "text": [
            "3.141592653589793\n",
            "1.0\n",
            "1.0\n",
            "-1.0\n",
            "3628800\n"
          ]
        }
      ]
    },
    {
      "cell_type": "markdown",
      "source": [
        "Proviamo a eseguire\n",
        "\n",
        "* math.degrees(math.pi)\n",
        "\n",
        "Qual è e cosa significa il risultato? Per saperne di più su questa funzione possiamo usare help(math.degrees)"
      ],
      "metadata": {
        "id": "zpjcT6_9FKQP"
      }
    },
    {
      "cell_type": "code",
      "source": [
        "print(math.pi)\n",
        "print(math.degrees(math.pi))\n",
        "print(math.radians(180))\n",
        "print(\"---\")\n",
        "help(math.degrees)\n",
        "print(\"---\")\n",
        "help(math.radians)"
      ],
      "metadata": {
        "colab": {
          "base_uri": "https://localhost:8080/"
        },
        "id": "13a_wpLQBb2o",
        "outputId": "190f7466-2e32-4691-8400-4bd106441bb3"
      },
      "execution_count": 24,
      "outputs": [
        {
          "output_type": "stream",
          "name": "stdout",
          "text": [
            "3.141592653589793\n",
            "180.0\n",
            "3.141592653589793\n",
            "---\n",
            "Help on built-in function degrees in module math:\n",
            "\n",
            "degrees(x, /)\n",
            "    Convert angle x from radians to degrees.\n",
            "\n",
            "---\n",
            "Help on built-in function radians in module math:\n",
            "\n",
            "radians(x, /)\n",
            "    Convert angle x from degrees to radians.\n",
            "\n"
          ]
        }
      ]
    },
    {
      "cell_type": "markdown",
      "source": [
        "L'azienda Object SpA ha creato una lista di quanti oggetti ha venduto ogni mese nell'ultimo anno:\n",
        "\n",
        "lst = [2000, 5500, 7200, 4320, 1280, 1900, 2500, 3900, 6410, 8150, 7100, 5350]\n",
        "\n",
        "Trasformiamola in un array NumPy (casting):\n",
        "\n",
        "* lst = np.array(lst)\n",
        "\n",
        "e rispondiamo alle domande del CEO della Object SpA:\n",
        "* qual è stata la vendita massima mensile? E quella minima?\n",
        "* quali sono le vendite mensili maggiori di 4999 oggetti? E quante ne sono?\n",
        "* quali sono le vendite minori di 3000 oggetti?"
      ],
      "metadata": {
        "id": "UOnjo5BNGU5A"
      }
    },
    {
      "cell_type": "code",
      "source": [
        "import numpy as np\n",
        "\n",
        "lst = [2000, 5500, 7200, 4320, 1280, 1900, 2500, 3900, 6410, 8150, 7100, 5350]\n",
        "\n",
        "lst = np.array(lst) #casting\n",
        "\n",
        "print(\"Vendita massima mensile:\", lst.max())\n",
        "print(\"Vendita minima mensile:\", lst.min())\n",
        "print(\"La lista delle vendite mensili maggiori di 4999 oggetti è:\", lst[lst > 4999])\n",
        "print(\"Numero di mesi con vendita maggiore di 4999 oggetti:\", (lst > 4999).sum())\n",
        "print(\"La lista delle vendite mensili minori di 3000 oggetti è:\", lst[lst < 3000])\n",
        "print(\"Numero di mesi con vendita minore di 3000 oggetti:\", (lst < 3000).sum())\n",
        "print(\"La media delle vendite mensili è:\", round(lst.mean(), 2))"
      ],
      "metadata": {
        "colab": {
          "base_uri": "https://localhost:8080/"
        },
        "id": "3LNg9WfcFYIJ",
        "outputId": "e27aaed6-31cd-4eb7-9efe-129ab8b21488"
      },
      "execution_count": 32,
      "outputs": [
        {
          "output_type": "stream",
          "name": "stdout",
          "text": [
            "Vendita massima mensile: 8150\n",
            "Vendita minima mensile: 1280\n",
            "La lista delle vendite mensili maggiori di 4999 oggetti è: [5500 7200 6410 8150 7100 5350]\n",
            "Numero di mesi con vendita maggiore di 4999 oggetti: 6\n",
            "La lista delle vendite mensili minori di 3000 oggetti è: [2000 1280 1900 2500]\n",
            "Numero di mesi con vendita minore di 3000 oggetti: 4\n",
            "La media delle vendite mensili è: 4634.17\n"
          ]
        }
      ]
    },
    {
      "cell_type": "markdown",
      "source": [
        "Consideriamo il seguente dizionario:\n",
        "\n",
        "* fatturati_dict = {1997: 12_000, 1998: 15_000, 1999: 20_000, 2000: 23_000, 2001: 25_000, 2002: 17_000, 2003: 14_000, 2004: 21_000}\n",
        "\n",
        "Consideriamo ora la seguente Series:\n",
        "\n",
        "* fatturati_series = pd.Series([12_000, 15_000, 20_000, 23_000, 25_000, 17_000, 14_000, 21_000], index=range(1997, 2005))\n",
        "\n",
        "Possiamo accedere alle stesse informazioni nello stesso modo:\n",
        "* fatturati_dict[1997]\n",
        "* fatturati_series[1997]\n",
        "\n",
        "Dunque qual è la differenza tra i due tipi di dato?"
      ],
      "metadata": {
        "id": "skXOFqKnKZIg"
      }
    },
    {
      "cell_type": "code",
      "source": [
        "fatturati_dict = {1997: 12_000, 1998: 15_000, 1999: 20_000, 2000: 23_000, 2001: 25_000, 2002: 17_000, 2003: 14_000, 2004: 21_000}\n",
        "print(fatturati_dict[1997])\n",
        "print(\"Un dizionario è una struttura dati che associa coppie chiave-valore. È una collezione mutabile e non ordinata di elementi.\")\n",
        "\n",
        "import pandas as pd\n",
        "fatturati_series = pd.Series([12_000, 15_000, 20_000, 23_000, 25_000, 17_000, 14_000, 21_000], index=range(1997, 2005))\n",
        "print(fatturati_series[1997])\n",
        "print(\"Il tipo di dato Series è un array monodimensionale indicizzato, il cui indice può essere sia numerico che categorico (cioè rappresentato da una stringa).\")"
      ],
      "metadata": {
        "colab": {
          "base_uri": "https://localhost:8080/"
        },
        "id": "t3TJmyRWHR0m",
        "outputId": "23d2782e-2e0b-4a27-9723-b39fb235ff16"
      },
      "execution_count": 35,
      "outputs": [
        {
          "output_type": "stream",
          "name": "stdout",
          "text": [
            "12000\n",
            "Un dizionario è una struttura dati che associa coppie chiave-valore. È una collezione mutabile e non ordinata di elementi.\n",
            "12000\n",
            "Il tipo di dato Series è un array monodimensionale indicizzato, il cui indice può essere sia numerico che categorico (cioè rappresentato da una stringa).\n"
          ]
        }
      ]
    },
    {
      "cell_type": "markdown",
      "source": [
        "L'azienda Object SpA ha un dataset con tutti gli stipendi dei dipendenti, memorizzato in un ndarray:\n",
        "\n",
        "import numpy as np\n",
        "\n",
        "stipendi = np.array( [100, 200, 300, 400, 500,  600, 700, 800, 900, 1000] )\n",
        "\n",
        "L'azienda ci chiede di raddoppiare tutti gli stipendi; facciamolo in due modi:\n",
        "* con un ciclo for\n",
        "* con il masking"
      ],
      "metadata": {
        "id": "t2yihNzGNVJu"
      }
    },
    {
      "cell_type": "code",
      "source": [
        "import numpy as np\n",
        "\n",
        "stipendi = np.array( [100, 200, 300, 400, 500, 600, 700, 800, 900, 1000] )\n",
        "stipendi_raddoppiati = [] #init\n",
        "\n",
        "# con ciclo for\n",
        "for stipendio in stipendi:\n",
        "    stipendi_raddoppiati.append(stipendio * 2)\n",
        "stipendi_raddoppiati = np.array(stipendi_raddoppiati)\n",
        "print(\"La lista degli stipendi raddoppiati è:\", stipendi_raddoppiati)\n",
        "\n",
        "# con masking\n",
        "stipendi_raddoppiati = stipendi * 2\n",
        "print(\"La lista degli stipendi raddoppiati è:\", stipendi_raddoppiati)"
      ],
      "metadata": {
        "colab": {
          "base_uri": "https://localhost:8080/"
        },
        "id": "AVmgSwlwMGCG",
        "outputId": "06fad2a2-b0b7-4f70-e062-75000031d63e"
      },
      "execution_count": 37,
      "outputs": [
        {
          "output_type": "stream",
          "name": "stdout",
          "text": [
            "La lista degli stipendi raddoppiati è: [ 200  400  600  800 1000 1200 1400 1600 1800 2000]\n",
            "La lista degli stipendi raddoppiati è: [ 200  400  600  800 1000 1200 1400 1600 1800 2000]\n"
          ]
        }
      ]
    },
    {
      "cell_type": "code",
      "source": [],
      "metadata": {
        "id": "3rHb3sb1PEJt"
      },
      "execution_count": null,
      "outputs": []
    }
  ]
}